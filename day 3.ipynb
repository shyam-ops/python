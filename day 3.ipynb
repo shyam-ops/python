{
 "cells": [
  {
   "cell_type": "markdown",
   "metadata": {},
   "source": [
    "***Example Programs***"
   ]
  },
  {
   "cell_type": "markdown",
   "metadata": {},
   "source": [
    "1. Greeting Bot"
   ]
  },
  {
   "cell_type": "code",
   "execution_count": 1,
   "metadata": {},
   "outputs": [
    {
     "name": "stdout",
     "output_type": "stream",
     "text": [
      "Hey Shyam, Avenger's Infinity War is a great movie. Its a GOT movie\n"
     ]
    }
   ],
   "source": [
    "name= input(\"Enter name\")\n",
    "movie =input(\"Enter movie\")\n",
    "print(f\"Hey {name}, {movie} is a great movie. Its a GOT movie\")"
   ]
  },
  {
   "cell_type": "markdown",
   "metadata": {},
   "source": [
    "String Formating"
   ]
  },
  {
   "cell_type": "code",
   "execution_count": 3,
   "metadata": {},
   "outputs": [
    {
     "name": "stdout",
     "output_type": "stream",
     "text": [
      "Im aman, studying insb jain persuing my btech in AI-DS\n"
     ]
    }
   ],
   "source": [
    "name=input(\"name\")\n",
    "college=input(\"College\")\n",
    "department=input(\"Dept\")\n",
    "print(f\"Im {name}, studying in{college} persuing my btech in {department}\")"
   ]
  },
  {
   "cell_type": "code",
   "execution_count": 6,
   "metadata": {},
   "outputs": [
    {
     "name": "stdout",
     "output_type": "stream",
     "text": [
      "Formatted my-name-is-aman-ukey\n",
      "20\n"
     ]
    }
   ],
   "source": [
    "text = input(\"Enter a sentence\")\n",
    "formatted = text.replace(\" \",'-')\n",
    "print(\"Formatted\",formatted)\n",
    "print(len(text))"
   ]
  },
  {
   "cell_type": "code",
   "execution_count": 7,
   "metadata": {},
   "outputs": [
    {
     "name": "stdout",
     "output_type": "stream",
     "text": [
      "first name Shyam , last name Patil\n"
     ]
    }
   ],
   "source": [
    "name = \"Shyam Patil\"\n",
    "fname = name[0:5]\n",
    "lname = name[6:]\n",
    "print(f\"first name {fname} , last name {lname}\")"
   ]
  },
  {
   "cell_type": "markdown",
   "metadata": {},
   "source": [
    "# ***10 String Tasks for Practice*** #\n"
   ]
  },
  {
   "cell_type": "markdown",
   "metadata": {},
   "source": [
    "1) Ask the user for their full name and print it:\n",
    "\n",
    "In UPPERCASE\n",
    "\n",
    "In lowercase\n",
    "\n",
    "With the first letter capitalized for each word"
   ]
  },
  {
   "cell_type": "code",
   "execution_count": 8,
   "metadata": {},
   "outputs": [
    {
     "name": "stdout",
     "output_type": "stream",
     "text": [
      "sHYAM pAtil\n",
      "Upper=  SHYAM PATIL\n",
      "lower=  shyam patil\n",
      "Title=  Shyam Patil\n"
     ]
    }
   ],
   "source": [
    "name = input(\"Enter name\")\n",
    "print(name)\n",
    "print(\"Upper= \",name.upper())\n",
    "print(\"lower= \",name.lower())\n",
    "print(\"Title= \",name.title())"
   ]
  },
  {
   "cell_type": "markdown",
   "metadata": {},
   "source": [
    "2. Emoji Replacer\n",
    "Ask the user for a sentence and replace :) with 😄 and :( with 😢"
   ]
  },
  {
   "cell_type": "code",
   "execution_count": 11,
   "metadata": {},
   "outputs": [
    {
     "name": "stdout",
     "output_type": "stream",
     "text": [
      "today i was 😢 because he was 🤣\n"
     ]
    }
   ],
   "source": [
    "sen = input(\"Enter a sentence\")\n",
    "sen = sen.replace(\":)\", \"🤣\")\n",
    "sen = sen.replace(\":(\", \"😢\")\n",
    "print(sen)"
   ]
  },
  {
   "cell_type": "code",
   "execution_count": 13,
   "metadata": {},
   "outputs": [
    {
     "name": "stdout",
     "output_type": "stream",
     "text": [
      "I m Shyam Vidyadhar Patil. Im Studying in SB jain institute of technology management and research\n",
      "Number of words = 16\n"
     ]
    }
   ],
   "source": [
    "sen = input(\"Enter sentence\")\n",
    "print(sen)\n",
    "space = sen.count(\" \")\n",
    "words = space + 1\n",
    "print(\"Number of words =\",words)"
   ]
  },
  {
   "cell_type": "code",
   "execution_count": 26,
   "metadata": {},
   "outputs": [
    {
     "name": "stdout",
     "output_type": "stream",
     "text": [
      "Shyam Vidyadhar Patil\n",
      "S.V.P."
     ]
    }
   ],
   "source": [
    "name = input(\"Enter name\")\n",
    "name = name.title()\n",
    "print(name)\n",
    "for i in name:\n",
    "    if i.isupper():\n",
    "        print(i,end=\".\")\n",
    "        continue"
   ]
  },
  {
   "cell_type": "code",
   "execution_count": 30,
   "metadata": {},
   "outputs": [
    {
     "name": "stdout",
     "output_type": "stream",
     "text": [
      "************\n"
     ]
    }
   ],
   "source": [
    "password = input(\"Enter password\")\n",
    "code = \"*\" * len(password)\n",
    "print(code)"
   ]
  },
  {
   "cell_type": "code",
   "execution_count": 44,
   "metadata": {},
   "outputs": [
    {
     "name": "stdout",
     "output_type": "stream",
     "text": [
      "h my nm s shym"
     ]
    }
   ],
   "source": [
    "sen1 = input(\"Enter sentence\")\n",
    "sen2 = \"\"\n",
    "vowel = \"aeiouAEIOU\"\n",
    "for i in sen:\n",
    "    if i not in vowel:\n",
    "        #sen2 = sen2 + i\n",
    "        #sen = sen.replace(i , \"\")\n",
    "        print(i,end=\"\")"
   ]
  },
  {
   "cell_type": "code",
   "execution_count": 47,
   "metadata": {},
   "outputs": [
    {
     "name": "stdout",
     "output_type": "stream",
     "text": [
      "mayhs\n"
     ]
    }
   ],
   "source": [
    "word = input(\"Enter word\")\n",
    "\n",
    "print(word[::-1])"
   ]
  },
  {
   "cell_type": "code",
   "execution_count": 51,
   "metadata": {},
   "outputs": [
    {
     "name": "stdout",
     "output_type": "stream",
     "text": [
      "Not palindrome\n"
     ]
    }
   ],
   "source": [
    "word = input(\"Enter word\")\n",
    "if word == word[::-1]:\n",
    "    print(\"Palindrome\")\n",
    "else:\n",
    "    print(\"Not palindrome\")"
   ]
  },
  {
   "cell_type": "code",
   "execution_count": null,
   "metadata": {},
   "outputs": [],
   "source": []
  }
 ],
 "metadata": {
  "kernelspec": {
   "display_name": "Python 3",
   "language": "python",
   "name": "python3"
  },
  "language_info": {
   "codemirror_mode": {
    "name": "ipython",
    "version": 3
   },
   "file_extension": ".py",
   "mimetype": "text/x-python",
   "name": "python",
   "nbconvert_exporter": "python",
   "pygments_lexer": "ipython3",
   "version": "3.12.0"
  }
 },
 "nbformat": 4,
 "nbformat_minor": 2
}
