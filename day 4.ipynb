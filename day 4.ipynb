{
 "cells": [
  {
   "cell_type": "markdown",
   "metadata": {},
   "source": [
    "# Tasks for Day 4"
   ]
  },
  {
   "cell_type": "code",
   "execution_count": 5,
   "metadata": {},
   "outputs": [
    {
     "name": "stdout",
     "output_type": "stream",
     "text": [
      "n1= 1.0\n",
      "n1= 2.0\n",
      "sum= 3.0\n",
      "difference -1.0\n",
      "multiplication = 2.0\n",
      "Division = 0.5\n"
     ]
    }
   ],
   "source": [
    "# Ask user two numbers and print sum, difference, product, division.\n",
    "\n",
    "n1 = float(input(\"Enter 1st number\"))\n",
    "n2 = float(input(\"Enter 2nd number\"))\n",
    "print(f\"n1= {n1}\")\n",
    "print(f\"n1= {n2}\")\n",
    "sum= n1+n2\n",
    "difference = n1-n2\n",
    "product = n1*n2\n",
    "division = n1/n2\n",
    "print(\"sum=\",sum)\n",
    "print(\"difference\",difference)\n",
    "print(\"multiplication =\",product)\n",
    "print(\"Division =\",division)"
   ]
  },
  {
   "cell_type": "code",
   "execution_count": 10,
   "metadata": {},
   "outputs": [
    {
     "name": "stdout",
     "output_type": "stream",
     "text": [
      "s1 = 29.0 , s2 - 31.0 , s3= 39.0\n",
      "average=33.0\n"
     ]
    }
   ],
   "source": [
    "#Input marks of 3 subjects, calculate average.\n",
    "s1= float(input(\"Enter marks of s1\"))\n",
    "s2= float(input(\"Enter marks of s1\"))\n",
    "s3= float(input(\"Enter marks of s1\"))\n",
    "average = (s1+s2+s3)/3\n",
    "print(f\"s1 = {s1} , s2 = {s2} , s3= {s3}\")\n",
    "print(f\"average={average}\")\n"
   ]
  },
  {
   "cell_type": "code",
   "execution_count": 11,
   "metadata": {},
   "outputs": [
    {
     "name": "stdout",
     "output_type": "stream",
     "text": [
      "3 is odd\n"
     ]
    }
   ],
   "source": [
    "# Check if a number is even or odd using %\n",
    "num = int(input(\"Enter a number\"))\n",
    "if num%2 == 0:\n",
    "    print(f\"{num} is even\")\n",
    "else:\n",
    "    print(f\"{num} is odd\")"
   ]
  },
  {
   "cell_type": "code",
   "execution_count": 12,
   "metadata": {},
   "outputs": [
    {
     "name": "stdout",
     "output_type": "stream",
     "text": [
      "Square of 2324512 is 5403356038144\n",
      "Cube of 2324512 is 12560165950938185728\n"
     ]
    }
   ],
   "source": [
    "# Find square and cube of a number using **\n",
    "num = int(input(\"Enter a number\"))\n",
    "square=num**2\n",
    "cube=num**3\n",
    "print(f\"Square of {num} is {square}\\nCube of {num} is {cube}\")"
   ]
  },
  {
   "cell_type": "code",
   "execution_count": 14,
   "metadata": {},
   "outputs": [
    {
     "name": "stdout",
     "output_type": "stream",
     "text": [
      "m\n",
      "n\n",
      "n\n",
      "m\n"
     ]
    }
   ],
   "source": [
    "# Swap two variables using a, b = b, a\n",
    "a=input(\"Enter a\")\n",
    "b=input(\"Enter b\")\n",
    "print(a)\n",
    "print(b)\n",
    "a,b=b,a\n",
    "print(a)\n",
    "print(b)"
   ]
  },
  {
   "cell_type": "code",
   "execution_count": 16,
   "metadata": {},
   "outputs": [
    {
     "name": "stdout",
     "output_type": "stream",
     "text": [
      "Not eligible\n"
     ]
    }
   ],
   "source": [
    "# Ask user’s age and check if eligible to vote (>=18).\n",
    "age = int(input(\"Enter age\"))\n",
    "if age>= 18:\n",
    "    print(\"Eligible\")\n",
    "else:\n",
    "    print(\"Not eligible\")"
   ]
  },
  {
   "cell_type": "code",
   "execution_count": 21,
   "metadata": {},
   "outputs": [
    {
     "name": "stdout",
     "output_type": "stream",
     "text": [
      "7\n",
      "not divisible\n"
     ]
    }
   ],
   "source": [
    "# Check if a number is divisible by both 3 and 5.\n",
    "n=int(input(\"Enter a number\"))\n",
    "print(n)\n",
    "if n%3 ==0 and n%5 == 0:\n",
    "    print(f\"{n} is divisible by 3 and 5\")\n",
    "else:\n",
    "    print(\"not divisible\")"
   ]
  },
  {
   "cell_type": "code",
   "execution_count": 25,
   "metadata": {},
   "outputs": [
    {
     "name": "stdout",
     "output_type": "stream",
     "text": [
      "1 is greater\n"
     ]
    }
   ],
   "source": [
    "# Take two inputs and print the greater number.\n",
    "n1=int(input(\"Enter first number\"))\n",
    "n2=int(input(\"Enter Second number\"))\n",
    "if n1>n2:\n",
    "    print(f\"{n1} is greater\")\n",
    "elif n2>n1:\n",
    "    print(f\"{n2} is greater\")\n",
    "else:\n",
    "    print(\"Both are same\")"
   ]
  },
  {
   "cell_type": "code",
   "execution_count": 27,
   "metadata": {},
   "outputs": [
    {
     "name": "stdout",
     "output_type": "stream",
     "text": [
      "5.0 is positive\n"
     ]
    }
   ],
   "source": [
    "# Check if a number is positive, negative, or zero.\n",
    "num = float(input(\"Enter a number\"))\n",
    "if num<0:\n",
    "    print(f\"{num} is negative\")\n",
    "elif num>0:\n",
    "    print(f\"{num} is positive\")\n",
    "else:\n",
    "    print(f\"{num} is 0\")"
   ]
  },
  {
   "cell_type": "code",
   "execution_count": 32,
   "metadata": {},
   "outputs": [
    {
     "name": "stdout",
     "output_type": "stream",
     "text": [
      "9\n"
     ]
    }
   ],
   "source": [
    "# Create a simple calculator (add, subtract, multiply, divide).\n",
    "num1 = int(input(\"Enter num1\"))\n",
    "operator = input(\"Enter operator(+,-,*,/)\")\n",
    "num2 = int(input(\"Enter num2\"))\n",
    "if operator == '+':\n",
    "    print(num1 + num2)\n",
    "elif operator == '-':\n",
    "    print(num1 - num2)\n",
    "elif operator == '/':\n",
    "    print(num1 / num2)\n",
    "elif operator == '*':\n",
    "    print(num1 * num2)\n",
    "else:\n",
    "    print(\"Invalid operator\")\n"
   ]
  },
  {
   "cell_type": "code",
   "execution_count": null,
   "metadata": {},
   "outputs": [],
   "source": []
  }
 ],
 "metadata": {
  "kernelspec": {
   "display_name": "Python 3",
   "language": "python",
   "name": "python3"
  },
  "language_info": {
   "codemirror_mode": {
    "name": "ipython",
    "version": 3
   },
   "file_extension": ".py",
   "mimetype": "text/x-python",
   "name": "python",
   "nbconvert_exporter": "python",
   "pygments_lexer": "ipython3",
   "version": "3.12.0"
  }
 },
 "nbformat": 4,
 "nbformat_minor": 2
}
