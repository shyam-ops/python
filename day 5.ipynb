{
 "cells": [
  {
   "cell_type": "markdown",
   "metadata": {},
   "source": [
    "# Day 5"
   ]
  },
  {
   "cell_type": "code",
   "execution_count": 4,
   "metadata": {},
   "outputs": [
    {
     "name": "stdout",
     "output_type": "stream",
     "text": [
      "senior citizen\n"
     ]
    }
   ],
   "source": [
    "# Ask age and print if the person is a minor, adult, or senior citizen.\n",
    "age = int(input(\"Enter age\"))\n",
    "if age<18:\n",
    "    print(\"Minor\")\n",
    "elif 18<=age<=59:\n",
    "    print(\"Adult\")\n",
    "else:\n",
    "    print(\"senior citizen\")"
   ]
  },
  {
   "cell_type": "code",
   "execution_count": 6,
   "metadata": {},
   "outputs": [
    {
     "name": "stdout",
     "output_type": "stream",
     "text": [
      "-1.0 is negative\n"
     ]
    }
   ],
   "source": [
    "# Ask a number and check if it’s positive, negative, or zero.\n",
    "n=float(input(\"Enter a number\"))\n",
    "if n>0:\n",
    "    print(f\"{n} os positive\")\n",
    "elif n<0:\n",
    "    print(f\"{n} is negative\")\n",
    "else:\n",
    "    print(0)"
   ]
  },
  {
   "cell_type": "code",
   "execution_count": 8,
   "metadata": {},
   "outputs": [
    {
     "name": "stdout",
     "output_type": "stream",
     "text": [
      "A+\n"
     ]
    }
   ],
   "source": [
    "# Ask marks and give grade using if-elif-else.\n",
    "marks = float(input(\"Enter marks\"))\n",
    "if 95<=marks<=100:\n",
    "    print(\"A+\")\n",
    "elif 90<=marks<95:\n",
    "    print(\"A\")\n",
    "elif 85<=marks<90:\n",
    "    print(\"B+\")\n",
    "elif 80<=marks<85:\n",
    "    print(\"B\")\n",
    "elif 75<=marks<80:\n",
    "    print(\"C+\")\n",
    "elif 70<=marks<75:\n",
    "    print(\"C\")\n",
    "elif 60<=marks<70:\n",
    "    print(\"D\")\n",
    "else:\n",
    "    print(\"Fail\")\n",
    "    "
   ]
  },
  {
   "cell_type": "code",
   "execution_count": 13,
   "metadata": {},
   "outputs": [
    {
     "name": "stdout",
     "output_type": "stream",
     "text": [
      "Not a leap year\n"
     ]
    }
   ],
   "source": [
    "# Check if a year is a leap year.\n",
    "year = int(input(\"Enter year\"))\n",
    "if year%100==0:\n",
    "    if year%400==0:\n",
    "        print(\"Century leap year\")\n",
    "    else:\n",
    "        print(\"Century year , not a leap year\")\n",
    "elif year%4==0:\n",
    "    print(\"Leap year\")\n",
    "else:\n",
    "    print(\"Not a leap year\")"
   ]
  },
  {
   "cell_type": "code",
   "execution_count": 14,
   "metadata": {},
   "outputs": [
    {
     "name": "stdout",
     "output_type": "stream",
     "text": [
      "6 is divisible by both 2 and 3\n"
     ]
    }
   ],
   "source": [
    "# Ask a number and check if it's divisible by 2 and 3\n",
    "n= int(input(\"Enter a number\"))\n",
    "if n%2 ==0 and n%3 == 0:\n",
    "    print(f\"{n} is divisible by both 2 and 3\")\n",
    "else:\n",
    "    print(\"not divisible\")"
   ]
  },
  {
   "cell_type": "code",
   "execution_count": 15,
   "metadata": {},
   "outputs": [
    {
     "name": "stdout",
     "output_type": "stream",
     "text": [
      "3 is largest\n"
     ]
    }
   ],
   "source": [
    "# Find the largest among three numbers\n",
    "a=int(input(\"enter a\"))\n",
    "b=int(input(\"enter b\"))\n",
    "c=int(input(\"enter c\"))\n",
    "if a>b and a>c:\n",
    "    print(f\"{a} is largest\")\n",
    "elif b>a and b>c:\n",
    "    print(f\"{b} is largest\")\n",
    "else:\n",
    "    print(f\"{c} is largest\")"
   ]
  },
  {
   "cell_type": "code",
   "execution_count": 20,
   "metadata": {},
   "outputs": [
    {
     "name": "stdout",
     "output_type": "stream",
     "text": [
      "X is consonant\n"
     ]
    }
   ],
   "source": [
    "# Check if a character is a vowel or consonant\n",
    "var = input(\"Enter a character\")\n",
    "vowel = 'AEIOUaeiou'\n",
    "if var in vowel:\n",
    "    print(f\"{var} is a vowel\")\n",
    "else:\n",
    "    print(f\"{var} is consonant\")"
   ]
  },
  {
   "cell_type": "code",
   "execution_count": 22,
   "metadata": {},
   "outputs": [
    {
     "name": "stdout",
     "output_type": "stream",
     "text": [
      "not match\n"
     ]
    }
   ],
   "source": [
    "# Ask password input; check if it matches predefined password.\n",
    "prePass = \"Shyam212123\"\n",
    "password = input(\"Enter password\")\n",
    "if password == prePass:\n",
    "    print(\"Match\")\n",
    "else:\n",
    "    print(\"not match\")"
   ]
  },
  {
   "cell_type": "code",
   "execution_count": 27,
   "metadata": {},
   "outputs": [
    {
     "name": "stdout",
     "output_type": "stream",
     "text": [
      "goodnight\n"
     ]
    }
   ],
   "source": [
    "# Ask user to enter time (in 24hr format) and greet accordingly.\n",
    "time = float(input(\"Enter time in 24 hours\"))\n",
    "if time<0 or time>25:\n",
    "    print(\"invalid time\")\n",
    "elif 5<time<12:\n",
    "    print(\"Good morning\")\n",
    "elif 12<time<=17:\n",
    "    print(\"Good afternoon\")\n",
    "elif 17<time<=21:\n",
    "    print(\"Good evening\")\n",
    "elif 21<time<=17:\n",
    "    print(\"Good afternoon\")\n",
    "else:\n",
    "    print(\"goodnight\")"
   ]
  },
  {
   "cell_type": "code",
   "execution_count": null,
   "metadata": {},
   "outputs": [],
   "source": []
  }
 ],
 "metadata": {
  "kernelspec": {
   "display_name": "Python 3",
   "language": "python",
   "name": "python3"
  },
  "language_info": {
   "codemirror_mode": {
    "name": "ipython",
    "version": 3
   },
   "file_extension": ".py",
   "mimetype": "text/x-python",
   "name": "python",
   "nbconvert_exporter": "python",
   "pygments_lexer": "ipython3",
   "version": "3.12.0"
  }
 },
 "nbformat": 4,
 "nbformat_minor": 2
}
