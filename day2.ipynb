{
 "cells": [
  {
   "cell_type": "code",
   "execution_count": 1,
   "metadata": {},
   "outputs": [],
   "source": [
    "#day 2\n",
    "#todays task1Store values using variable , basic data types of python , input output using user , type casting"
   ]
  },
  {
   "cell_type": "code",
   "execution_count": 3,
   "metadata": {},
   "outputs": [
    {
     "name": "stdout",
     "output_type": "stream",
     "text": [
      "hello Shyam welcome to day 2🔥🔥🔥👍👍\n"
     ]
    }
   ],
   "source": [
    "name = input(\"Enter name:\")\n",
    "print(\"hello\",name,\"welcome to day 2🔥🔥🔥👍👍\")"
   ]
  },
  {
   "cell_type": "code",
   "execution_count": 4,
   "metadata": {},
   "outputs": [
    {
     "name": "stdout",
     "output_type": "stream",
     "text": [
      "your age is  21\n"
     ]
    }
   ],
   "source": [
    "#age calculator\n",
    "year = int(input(\"Enter year of birth:\"))\n",
    "age = 2025-year\n",
    "print(\"your age is \",age)"
   ]
  },
  {
   "cell_type": "code",
   "execution_count": 5,
   "metadata": {},
   "outputs": [
    {
     "name": "stdout",
     "output_type": "stream",
     "text": [
      "5.9 \n",
      " 89.0 \n",
      " 2.5567365699511635\n"
     ]
    }
   ],
   "source": [
    "#BMI calculator\n",
    "height = float(input(\"Enter Height in foot:\"))\n",
    "weight = float(input(\"Enter weight in kg:\"))\n",
    "BMI = weight/height**2\n",
    "print(height,\"\\n\",weight,\"\\n\",BMI)"
   ]
  },
  {
   "cell_type": "code",
   "execution_count": 53,
   "metadata": {},
   "outputs": [
    {
     "name": "stdout",
     "output_type": "stream",
     "text": [
      "65\n",
      "1.0833333333333333\n"
     ]
    }
   ],
   "source": [
    "sec = int(input(\"Enter sec\"))\n",
    "time = sec/60\n",
    "print(sec)\n",
    "print(time)\n"
   ]
  },
  {
   "cell_type": "code",
   "execution_count": 54,
   "metadata": {},
   "outputs": [
    {
     "name": "stdout",
     "output_type": "stream",
     "text": [
      "1\n"
     ]
    }
   ],
   "source": [
    "min = int(time)\n",
    "print(min)"
   ]
  },
  {
   "cell_type": "code",
   "execution_count": 55,
   "metadata": {},
   "outputs": [
    {
     "name": "stdout",
     "output_type": "stream",
     "text": [
      "0.08333333333333326\n",
      "4\n"
     ]
    }
   ],
   "source": [
    "print(time-min)\n",
    "sec = (time-min)*60\n",
    "sec = int(sec)\n",
    "print(round(sec,2))"
   ]
  },
  {
   "cell_type": "code",
   "execution_count": 56,
   "metadata": {},
   "outputs": [
    {
     "name": "stdout",
     "output_type": "stream",
     "text": [
      "min =  1 min , 4 sec\n"
     ]
    }
   ],
   "source": [
    "print(\"min = \",min,\"min\",\",\",round(sec,2),\"sec\")"
   ]
  },
  {
   "cell_type": "code",
   "execution_count": null,
   "metadata": {},
   "outputs": [],
   "source": []
  }
 ],
 "metadata": {
  "kernelspec": {
   "display_name": "Python 3",
   "language": "python",
   "name": "python3"
  },
  "language_info": {
   "codemirror_mode": {
    "name": "ipython",
    "version": 3
   },
   "file_extension": ".py",
   "mimetype": "text/x-python",
   "name": "python",
   "nbconvert_exporter": "python",
   "pygments_lexer": "ipython3",
   "version": "3.12.0"
  }
 },
 "nbformat": 4,
 "nbformat_minor": 2
}
