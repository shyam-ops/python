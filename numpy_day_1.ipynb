{
  "nbformat": 4,
  "nbformat_minor": 0,
  "metadata": {
    "colab": {
      "provenance": []
    },
    "kernelspec": {
      "name": "python3",
      "display_name": "Python 3"
    },
    "language_info": {
      "name": "python"
    }
  },
  "cells": [
    {
      "cell_type": "markdown",
      "source": [
        "#NUMPY\n"
      ],
      "metadata": {
        "id": "CwZHcxp_BiDn"
      }
    },
    {
      "cell_type": "code",
      "execution_count": 1,
      "metadata": {
        "id": "2gSrSsCpBRkN"
      },
      "outputs": [],
      "source": [
        "import numpy as np"
      ]
    },
    {
      "cell_type": "code",
      "source": [
        "arr = np.random.randint(100,1001,size=50)"
      ],
      "metadata": {
        "id": "yFCx4xBiBtLU"
      },
      "execution_count": 22,
      "outputs": []
    },
    {
      "cell_type": "code",
      "source": [
        "arr"
      ],
      "metadata": {
        "colab": {
          "base_uri": "https://localhost:8080/"
        },
        "id": "b-mvzCfIB9Du",
        "outputId": "82b4b7e9-6a98-4feb-df7e-8daa041818ce"
      },
      "execution_count": 23,
      "outputs": [
        {
          "output_type": "execute_result",
          "data": {
            "text/plain": [
              "array([790, 903, 881, 440, 971, 561, 119, 370, 317, 332, 518, 538, 880,\n",
              "       531, 754, 784, 975, 367, 730, 156, 938, 182, 325, 664, 621, 265,\n",
              "       599, 206, 762, 607, 761, 182, 431, 153, 487, 833, 283, 243, 959,\n",
              "       236, 460, 325, 759, 971, 701, 544, 292, 257, 795, 683])"
            ]
          },
          "metadata": {},
          "execution_count": 23
        }
      ]
    },
    {
      "cell_type": "markdown",
      "source": [
        "min, max, mean, median, standard deviation."
      ],
      "metadata": {
        "id": "CxuOa1vpCdda"
      }
    },
    {
      "cell_type": "code",
      "source": [],
      "metadata": {
        "id": "wLUBxHnGC3gO"
      },
      "execution_count": 19,
      "outputs": []
    },
    {
      "cell_type": "code",
      "source": [
        "max=np.max(arr)\n",
        "min=np.min(arr)\n",
        "mean=np.mean(arr)\n",
        "median=np.median(arr)\n",
        "std=np.std(arr)"
      ],
      "metadata": {
        "id": "W5Cw3GH-C_o2"
      },
      "execution_count": 24,
      "outputs": []
    },
    {
      "cell_type": "code",
      "source": [
        "min,max,mean,median,std"
      ],
      "metadata": {
        "colab": {
          "base_uri": "https://localhost:8080/"
        },
        "id": "bHze8IasDRDd",
        "outputId": "d3699723-c289-4b45-ac54-4f70b8ed8659"
      },
      "execution_count": 25,
      "outputs": [
        {
          "output_type": "execute_result",
          "data": {
            "text/plain": [
              "(np.int64(119),\n",
              " np.int64(975),\n",
              " np.float64(548.82),\n",
              " np.float64(541.0),\n",
              " np.float64(261.3148055506997))"
            ]
          },
          "metadata": {},
          "execution_count": 25
        }
      ]
    },
    {
      "cell_type": "markdown",
      "source": [
        "values between 300 and 700"
      ],
      "metadata": {
        "id": "NT_J8Y6DDpUH"
      }
    },
    {
      "cell_type": "code",
      "source": [
        "values_between_300_and_700 = arr[(arr >= 300) & (arr <= 700)]\n",
        "values_between_300_and_700"
      ],
      "metadata": {
        "colab": {
          "base_uri": "https://localhost:8080/"
        },
        "id": "rVh5GX_aDUFL",
        "outputId": "ef0e5fa8-f284-42e6-f8e1-e6caaf3d6487"
      },
      "execution_count": 26,
      "outputs": [
        {
          "output_type": "execute_result",
          "data": {
            "text/plain": [
              "array([440, 561, 370, 317, 332, 518, 538, 531, 367, 325, 664, 621, 599,\n",
              "       607, 431, 487, 460, 325, 544, 683])"
            ]
          },
          "metadata": {},
          "execution_count": 26
        }
      ]
    },
    {
      "cell_type": "code",
      "source": [
        "result = np.where(arr>800,800,arr)\n",
        "arr\n"
      ],
      "metadata": {
        "colab": {
          "base_uri": "https://localhost:8080/"
        },
        "id": "ptMyGiy5Fi3R",
        "outputId": "9b208882-ca5e-4e5e-c3a9-bb2f9930077b"
      },
      "execution_count": 29,
      "outputs": [
        {
          "output_type": "execute_result",
          "data": {
            "text/plain": [
              "array([790, 903, 881, 440, 971, 561, 119, 370, 317, 332, 518, 538, 880,\n",
              "       531, 754, 784, 975, 367, 730, 156, 938, 182, 325, 664, 621, 265,\n",
              "       599, 206, 762, 607, 761, 182, 431, 153, 487, 833, 283, 243, 959,\n",
              "       236, 460, 325, 759, 971, 701, 544, 292, 257, 795, 683])"
            ]
          },
          "metadata": {},
          "execution_count": 29
        }
      ]
    },
    {
      "cell_type": "code",
      "source": [
        "result"
      ],
      "metadata": {
        "colab": {
          "base_uri": "https://localhost:8080/"
        },
        "id": "PjSISWhXGY8T",
        "outputId": "b3ed1575-0015-45ea-dd14-a79396fa268b"
      },
      "execution_count": 30,
      "outputs": [
        {
          "output_type": "execute_result",
          "data": {
            "text/plain": [
              "array([790, 800, 800, 440, 800, 561, 119, 370, 317, 332, 518, 538, 800,\n",
              "       531, 754, 784, 800, 367, 730, 156, 800, 182, 325, 664, 621, 265,\n",
              "       599, 206, 762, 607, 761, 182, 431, 153, 487, 800, 283, 243, 800,\n",
              "       236, 460, 325, 759, 800, 701, 544, 292, 257, 795, 683])"
            ]
          },
          "metadata": {},
          "execution_count": 30
        }
      ]
    },
    {
      "cell_type": "code",
      "source": [
        "resh=np.reshape(arr,(5,10))\n",
        "resh"
      ],
      "metadata": {
        "colab": {
          "base_uri": "https://localhost:8080/"
        },
        "id": "sMBsgpkoGi0H",
        "outputId": "f7834013-d924-4df3-d020-f72dfd142385"
      },
      "execution_count": 32,
      "outputs": [
        {
          "output_type": "execute_result",
          "data": {
            "text/plain": [
              "array([[790, 903, 881, 440, 971, 561, 119, 370, 317, 332],\n",
              "       [518, 538, 880, 531, 754, 784, 975, 367, 730, 156],\n",
              "       [938, 182, 325, 664, 621, 265, 599, 206, 762, 607],\n",
              "       [761, 182, 431, 153, 487, 833, 283, 243, 959, 236],\n",
              "       [460, 325, 759, 971, 701, 544, 292, 257, 795, 683]])"
            ]
          },
          "metadata": {},
          "execution_count": 32
        }
      ]
    },
    {
      "cell_type": "code",
      "source": [],
      "metadata": {
        "id": "bR1apZ9UHmdR"
      },
      "execution_count": null,
      "outputs": []
    },
    {
      "cell_type": "code",
      "metadata": {
        "colab": {
          "base_uri": "https://localhost:8080/"
        },
        "id": "7847bc70",
        "outputId": "95bba933-0642-4516-a191-adafc47db563"
      },
      "source": [
        "row_sums = np.sum(resh, axis=1)\n",
        "col_sums = np.sum(resh, axis=0)\n",
        "row_means = np.mean(resh, axis=1)\n",
        "col_means = np.mean(resh, axis=0)\n",
        "\n",
        "print(\"Row Sums:\", row_sums)\n",
        "print(\"Column Sums:\", col_sums)\n",
        "print(\"Row Averages:\", row_means)\n",
        "print(\"Column Averages:\", col_means)"
      ],
      "execution_count": 33,
      "outputs": [
        {
          "output_type": "stream",
          "name": "stdout",
          "text": [
            "Row Sums: [5684 6233 5169 4568 5787]\n",
            "Column Sums: [3467 2130 3276 2759 3534 2987 2268 1443 3563 2014]\n",
            "Row Averages: [568.4 623.3 516.9 456.8 578.7]\n",
            "Column Averages: [693.4 426.  655.2 551.8 706.8 597.4 453.6 288.6 712.6 402.8]\n"
          ]
        }
      ]
    },
    {
      "cell_type": "markdown",
      "source": [
        "Generate two 1D arrays of random integers (size 50)."
      ],
      "metadata": {
        "id": "RrY-G0HSI2r3"
      }
    },
    {
      "cell_type": "code",
      "source": [],
      "metadata": {
        "id": "hokM8nXeIHIW"
      },
      "execution_count": null,
      "outputs": []
    },
    {
      "cell_type": "code",
      "metadata": {
        "colab": {
          "base_uri": "https://localhost:8080/"
        },
        "id": "d3673bf5",
        "outputId": "a0b5efd6-f447-477c-c0c0-65997a3067c7"
      },
      "source": [
        "array1 = np.random.randint(0, 100, size=50)\n",
        "array2 = np.random.randint(0, 100, size=50)\n",
        "\n",
        "print(\"Array 1:\", array1)\n",
        "print(\"Array 2:\", array2)"
      ],
      "execution_count": 34,
      "outputs": [
        {
          "output_type": "stream",
          "name": "stdout",
          "text": [
            "Array 1: [60 31 33 77 89 48 30 31 79 63 69 19 33 58 65 69 47 24  5 62 76 90 69 34\n",
            " 27 45 69 57 79 17 20 66 92 64  7 15 38 93 88 95 82 30  1 72 96 32 96 32\n",
            " 22 50]\n",
            "Array 2: [48 64 82 22 28 40  4 40  3 15 29 37 54 16 63 31 53 41 41 74 96 90 97 51\n",
            " 43 27 16  6 51 39 15 67 13 24 66 77  9 75 30 30 35 28 86 42 99 10 38 92\n",
            " 62 22]\n"
          ]
        }
      ]
    },
    {
      "cell_type": "markdown",
      "source": [
        "corelation and covariance"
      ],
      "metadata": {
        "id": "eLyQmzOgJI_N"
      }
    },
    {
      "cell_type": "code",
      "source": [
        "crr=np.corrcoef(array1,array2)\n",
        "display(crr)"
      ],
      "metadata": {
        "colab": {
          "base_uri": "https://localhost:8080/",
          "height": 52
        },
        "id": "_xT8_q_QJCxz",
        "outputId": "1300d27f-bd64-453a-c1c8-24d6d38ab90d"
      },
      "execution_count": 37,
      "outputs": [
        {
          "output_type": "display_data",
          "data": {
            "text/plain": [
              "array([[ 1.        , -0.04078321],\n",
              "       [-0.04078321,  1.        ]])"
            ]
          },
          "metadata": {}
        }
      ]
    },
    {
      "cell_type": "code",
      "source": [
        "cov = np.cov(array1, array2)\n",
        "display(cov)"
      ],
      "metadata": {
        "colab": {
          "base_uri": "https://localhost:8080/",
          "height": 52
        },
        "id": "dZCaT3MnJd5k",
        "outputId": "3484ddda-880e-410e-fae0-7f50f79bb166"
      },
      "execution_count": 39,
      "outputs": [
        {
          "output_type": "display_data",
          "data": {
            "text/plain": [
              "array([[752.56489796, -30.33306122],\n",
              "       [-30.33306122, 735.06489796]])"
            ]
          },
          "metadata": {}
        }
      ]
    },
    {
      "cell_type": "code",
      "source": [],
      "metadata": {
        "id": "_iowUpLtJ1YK"
      },
      "execution_count": null,
      "outputs": []
    }
  ]
}