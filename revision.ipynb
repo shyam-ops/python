{
 "cells": [
  {
   "cell_type": "markdown",
   "metadata": {},
   "source": [
    " Even & Odd Counter\n",
    "Input 5 numbers one by one, and count how many are even and how many are odd.\n",
    "Print both counts."
   ]
  },
  {
   "cell_type": "code",
   "execution_count": 4,
   "metadata": {},
   "outputs": [
    {
     "name": "stdout",
     "output_type": "stream",
     "text": [
      "Even count 2\n",
      "Odd count 3\n"
     ]
    }
   ],
   "source": [
    "count_even=0\n",
    "count_odd=0\n",
    "for i in range(0,5):\n",
    "    n=int(input(\"Enter numbers\"))\n",
    "    if n%2 == 0:\n",
    "        count_even+=1\n",
    "        \n",
    "    else:\n",
    "        count_odd+=1\n",
    "        \n",
    "print(\"Even count\",count_even)\n",
    "print(\"Odd count\",count_odd)"
   ]
  },
  {
   "cell_type": "markdown",
   "metadata": {},
   "source": [
    "Triangle Number Pattern\n",
    "Input: 4\n",
    "Output:\n",
    "1\n",
    "2 2\n",
    "3 3 3\n",
    "4 4 4 4\n"
   ]
  },
  {
   "cell_type": "code",
   "execution_count": 6,
   "metadata": {},
   "outputs": [
    {
     "name": "stdout",
     "output_type": "stream",
     "text": [
      "1 \n",
      "2 2 \n",
      "3 3 3 \n",
      "4 4 4 4 \n"
     ]
    }
   ],
   "source": [
    "for i in range(1,5):\n",
    "    for j in range(1,i+1):\n",
    "        print(i,end=\" \")\n",
    "    print()"
   ]
  },
  {
   "cell_type": "code",
   "execution_count": 11,
   "metadata": {},
   "outputs": [
    {
     "name": "stdout",
     "output_type": "stream",
     "text": [
      "artificial intelligence and data science\n"
     ]
    }
   ],
   "source": [
    "rev=\"\"\n",
    "str = input(\"Enter a string\")\n",
    "length=len(str)\n",
    "for i in range(length-1,-1,-1):\n",
    "    rev=rev+str[i]\n",
    "print(rev)"
   ]
  },
  {
   "cell_type": "markdown",
   "metadata": {},
   "source": [
    " Password Validator\n",
    "Take a password input and validate:\n",
    "\n",
    "Minimum 8 characters\n",
    "\n",
    "Must include at least one @ or #\n",
    "\n",
    "Print Valid or Invalid.\n"
   ]
  },
  {
   "cell_type": "code",
   "execution_count": 14,
   "metadata": {},
   "outputs": [
    {
     "name": "stdout",
     "output_type": "stream",
     "text": [
      "valid\n"
     ]
    }
   ],
   "source": [
    "password= input(\"Enter password\")\n",
    "if len(password)>8 and \"@\" in password and \"#\" in password:\n",
    "    print(\"valid\")\n",
    "else:\n",
    "    print(\"invalid\")"
   ]
  },
  {
   "cell_type": "markdown",
   "metadata": {},
   "source": [
    "Palindrome Number\n",
    "Check whether the given number is a palindrome (reads the same backwards)."
   ]
  },
  {
   "cell_type": "code",
   "execution_count": 32,
   "metadata": {},
   "outputs": [
    {
     "name": "stdout",
     "output_type": "stream",
     "text": [
      "rev 321\n",
      "not palindrome\n"
     ]
    }
   ],
   "source": [
    "num=int(input(\"Enter a number:\"))\n",
    "original=num\n",
    "rev=0\n",
    "while num>0:\n",
    "    digit=num%10\n",
    "    rev=rev*10+digit\n",
    "    num=num//10\n",
    "print(\"rev\",rev)\n",
    "if rev==original:\n",
    "    print(\"palindrome\")\n",
    "else:\n",
    "    print(\"not palindrome\")\n"
   ]
  },
  {
   "cell_type": "markdown",
   "metadata": {},
   "source": [
    "Take a string input and count how many vowels are present in it."
   ]
  },
  {
   "cell_type": "code",
   "execution_count": 35,
   "metadata": {},
   "outputs": [
    {
     "name": "stdout",
     "output_type": "stream",
     "text": [
      "a\n",
      "e\n",
      "i\n",
      "o\n",
      "u\n",
      "count 5\n"
     ]
    }
   ],
   "source": [
    "string=input(\"enter a string\")\n",
    "vowel = \"aeiouAEIOU\"\n",
    "count=0\n",
    "for i in string:\n",
    "    if i in vowel:\n",
    "        count+=1\n",
    "    print(i)\n",
    "print(\"count\",count)"
   ]
  },
  {
   "cell_type": "markdown",
   "metadata": {},
   "source": [
    "Input a number → output the sum of all digits"
   ]
  },
  {
   "cell_type": "code",
   "execution_count": 37,
   "metadata": {},
   "outputs": [
    {
     "name": "stdout",
     "output_type": "stream",
     "text": [
      "12345\n",
      "Sum 15\n"
     ]
    }
   ],
   "source": [
    "n=int(input(\"Enter a number\"))\n",
    "print(n)\n",
    "sum=0\n",
    "while n>0:\n",
    "    digit=n%10\n",
    "    sum=sum+digit\n",
    "    n=n//10\n",
    "\n",
    "print(\"Sum\",sum)\n"
   ]
  },
  {
   "cell_type": "markdown",
   "metadata": {},
   "source": [
    "heck Strong Password\n",
    "Ask for a password input\n",
    "✅ Valid if:\n",
    "\n",
    "Length ≥ 8\n",
    "\n",
    "Contains at least one uppercase\n",
    "\n",
    "Contains at least one number\n",
    "\n",
    "Contains one special character (@, #, $)"
   ]
  },
  {
   "cell_type": "code",
   "execution_count": 48,
   "metadata": {},
   "outputs": [
    {
     "name": "stdout",
     "output_type": "stream",
     "text": [
      "Strong passwd\n"
     ]
    }
   ],
   "source": [
    "passwd=input(\"Enter a passwd\")\n",
    "length_ok = len(passwd)>=8\n",
    "upper_case = any(char.isupper() for char in passwd)\n",
    "num = any(char.isdigit() for char in passwd)\n",
    "special_char=any(char in \"@#$\" for char in passwd)\n",
    "if length_ok and upper_case and num and special_char:\n",
    "    print(\"Strong passwd\")\n",
    "else:\n",
    "    print(\"weak\")"
   ]
  },
  {
   "cell_type": "markdown",
   "metadata": {},
   "source": [
    "table"
   ]
  },
  {
   "cell_type": "code",
   "execution_count": 49,
   "metadata": {},
   "outputs": [
    {
     "name": "stdout",
     "output_type": "stream",
     "text": [
      "Multiplication table of  5\n",
      "5 * 1 = 5\n",
      "5 * 2 = 10\n",
      "5 * 3 = 15\n",
      "5 * 4 = 20\n",
      "5 * 5 = 25\n",
      "5 * 6 = 30\n",
      "5 * 7 = 35\n",
      "5 * 8 = 40\n",
      "5 * 9 = 45\n",
      "5 * 10 = 50\n"
     ]
    }
   ],
   "source": [
    "n=int(input(\"Enter a number\"))\n",
    "print(\"Multiplication table of \",n)\n",
    "for i in range(1,11):\n",
    "    print(n,\"*\",i,\"=\",n*i)\n"
   ]
  },
  {
   "cell_type": "code",
   "execution_count": null,
   "metadata": {},
   "outputs": [],
   "source": []
  }
 ],
 "metadata": {
  "kernelspec": {
   "display_name": "Python 3",
   "language": "python",
   "name": "python3"
  },
  "language_info": {
   "codemirror_mode": {
    "name": "ipython",
    "version": 3
   },
   "file_extension": ".py",
   "mimetype": "text/x-python",
   "name": "python",
   "nbconvert_exporter": "python",
   "pygments_lexer": "ipython3",
   "version": "3.12.0"
  }
 },
 "nbformat": 4,
 "nbformat_minor": 2
}
